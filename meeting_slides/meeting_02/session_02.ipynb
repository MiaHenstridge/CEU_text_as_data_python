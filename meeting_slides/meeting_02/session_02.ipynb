{
 "cells": [
  {
   "cell_type": "markdown",
   "id": "b68e6e50",
   "metadata": {},
   "source": [
    "# Text Representation\n",
    "This notebook demonstrates concepts in text representation and statistical models for text analysis. It includes examples of creating a Document Term Matrix (DTM), calculating word probabilities, and applying the Multinomial Model to predict text origins."
   ]
  },
  {
   "cell_type": "markdown",
   "id": "a336de6c",
   "metadata": {},
   "source": [
    "## Preparation\n",
    "### Required Packages\n",
    "First, install and import the required packages for text analysis."
   ]
  },
  {
   "cell_type": "markdown",
   "id": "a99a7def",
   "metadata": {},
   "source": [
    "### Document Term Matrix\n",
    "The `Document Term Matrix` is a bag-of-words representation of text. It is a matrix where:\n",
    "\n",
    "- Rows correspond to documents.\n",
    "- Columns correspond to terms (unique words in the corpus).\n",
    "\n",
    "For example:\n",
    "\n",
    "$$\n",
    "X = \\begin{bmatrix}\n",
    "1 & 1 & ... \\\\\n",
    "0 & 2 & ... \\\\\n",
    "... & ... & ...\n",
    "\\end{bmatrix}\n",
    "$$\n",
    "represents a document-term matrix."
   ]
  },
  {
   "cell_type": "code",
   "execution_count": 2,
   "id": "12bac96b",
   "metadata": {},
   "outputs": [],
   "source": [
    "# Install necessary packages\n",
    "# !pip install nltk numpy pandas scikit-learn\n",
    "\n",
    "# Import packages\n",
    "import numpy as np\n",
    "import pandas as pd\n",
    "from sklearn.feature_extraction.text import CountVectorizer\n",
    "from math import factorial\n",
    "from scipy.stats import multinomial\n"
   ]
  },
  {
   "cell_type": "markdown",
   "id": "8de38422",
   "metadata": {},
   "source": [
    "## Text Representation\n",
    "### Creating a Sample Corpus"
   ]
  },
  {
   "cell_type": "code",
   "execution_count": 3,
   "id": "b571a584",
   "metadata": {},
   "outputs": [
    {
     "name": "stdout",
     "output_type": "stream",
     "text": [
      "Corpus size: 3\n"
     ]
    }
   ],
   "source": [
    "# Define sample texts\n",
    "texts = [\n",
    "    'John loves icecream',\n",
    "    'John loves oranges',\n",
    "    'Marry hates icecream'\n",
    "]\n",
    "\n",
    "# Check corpus size\n",
    "corpus_size = len(texts)\n",
    "print(f'Corpus size: {corpus_size}')"
   ]
  },
  {
   "cell_type": "code",
   "execution_count": 4,
   "id": "becbbcca-60c9-43cd-94e3-31e4723ef5d4",
   "metadata": {},
   "outputs": [
    {
     "name": "stdout",
     "output_type": "stream",
     "text": [
      "Document Term Matrix:\n",
      "[0, 1, 1, 1, 0, 0]\n",
      "[0, 0, 1, 1, 0, 1]\n",
      "[1, 1, 0, 0, 1, 0]\n",
      "\n",
      "Unique Terms (Columns): ['hates', 'icecream', 'john', 'loves', 'marry', 'oranges']\n"
     ]
    }
   ],
   "source": [
    "def create_dtm(texts):\n",
    "\n",
    "    if not texts or not all(isinstance(t, str) for t in texts):\n",
    "        raise ValueError(\"Input must be a list of non-empty strings.\")\n",
    "    \n",
    "    # Convert texts to lowercase\n",
    "    texts = [text.lower() for text in texts]\n",
    "    \n",
    "    # Extract unique terms\n",
    "    all_words = [word for text in texts for word in text.split()]\n",
    "    unique_terms = sorted(set(all_words))  # Sorted for consistent column order\n",
    "    \n",
    "    # Create the matrix\n",
    "    dtm = []\n",
    "    for text in texts:\n",
    "        row = [text.split().count(term) for term in unique_terms]\n",
    "        dtm.append(row)\n",
    "    \n",
    "    return dtm, unique_terms\n",
    "\n",
    "dtm, unique_terms = create_dtm(texts)\n",
    "\n",
    "print(\"Document Term Matrix:\")\n",
    "for row in dtm:\n",
    "    print(row)\n",
    "\n",
    "print(\"\\nUnique Terms (Columns):\", unique_terms)\n"
   ]
  },
  {
   "cell_type": "markdown",
   "id": "e84d1c9d",
   "metadata": {},
   "source": [
    "### Document Term Matrix"
   ]
  },
  {
   "cell_type": "code",
   "execution_count": 6,
   "id": "e110fe4e",
   "metadata": {},
   "outputs": [
    {
     "name": "stdout",
     "output_type": "stream",
     "text": [
      "Document Term Matrix:\n",
      "[[0 1 1 1 0 0]\n",
      " [0 0 1 1 0 1]\n",
      " [1 1 0 0 1 0]]\n",
      "Terms: ['hates' 'icecream' 'john' 'loves' 'marry' 'oranges']\n"
     ]
    }
   ],
   "source": [
    "# Create a Document Term Matrix using CountVectorizer\n",
    "vectorizer = CountVectorizer()\n",
    "dtm = vectorizer.fit_transform(texts).toarray()\n",
    "\n",
    "# Display the matrix and terms\n",
    "print('Document Term Matrix:')\n",
    "print(dtm)\n",
    "print('Terms:', vectorizer.get_feature_names_out())"
   ]
  },
  {
   "cell_type": "markdown",
   "id": "4e7e7aad",
   "metadata": {},
   "source": [
    "### Task 1\n",
    "Create a `Document Term Matrix` for the following texts:"
   ]
  },
  {
   "cell_type": "code",
   "execution_count": 7,
   "id": "ef1a3574",
   "metadata": {},
   "outputs": [
    {
     "name": "stdout",
     "output_type": "stream",
     "text": [
      "Document Term Matrix for new texts:\n",
      "[[4 1]\n",
      " [1 3]\n",
      " [2 0]]\n",
      "Terms: ['banana' 'chocolate']\n"
     ]
    }
   ],
   "source": [
    "# Define new sample texts\n",
    "new_texts = [\n",
    "    'banana banana banana banana chocolate',\n",
    "    'chocolate chocolate chocolate banana',\n",
    "    'banana banana'\n",
    "]\n",
    "\n",
    "# Create a Document Term Matrix for new texts\n",
    "new_dtm = vectorizer.fit_transform(new_texts).toarray()\n",
    "\n",
    "print('Document Term Matrix for new texts:')\n",
    "print(new_dtm)\n",
    "print('Terms:', vectorizer.get_feature_names_out())"
   ]
  },
  {
   "cell_type": "markdown",
   "id": "c354ad23",
   "metadata": {},
   "source": [
    "## Multinomial Model of Texts\n",
    "The Multinomial Model of Texts is a probabilistic model used to determine the likelihood of a document being generated by a given source based on word probabilities. It is based on the Multinomial Distribution:\n",
    "\n",
    "$$\n",
    "P_n(x_1, x_2, ..., x_n) = \\frac{N!}{x_1! x_2! ... x_n!} p_1^{x_1} \\times p_2^{x_2} \\times ... \\times p_n^{x_n}\n",
    "$$\n",
    "\n",
    "- $N$ is the total number of words in the document.\n",
    "- $x_i$ is the count of the $i$th word.\n",
    "- $p_i$ is the probability of the $i$th word.\n"
   ]
  },
  {
   "cell_type": "markdown",
   "id": "a5574405",
   "metadata": {},
   "source": [
    "### Generating Text Data"
   ]
  },
  {
   "cell_type": "markdown",
   "id": "a0b8b96a-ff85-4b28-9830-8fcd91c3c402",
   "metadata": {},
   "source": [
    "Next, we assume that texts 1 through 3 are generated by John, while texts 4 though 6 are generated by Mary. Text_7 and Text_8 are of unknown origin. And we must determine who said what!\n",
    "\n",
    "Create a Document Term matrix and call it banana_data:\n",
    "\n",
    "Next, we need to calculate John and Mary word rates (how often do they use certain words).\n",
    "\n",
    "We do this by summing together all document rates that belong to John and to Mary, respectively."
   ]
  },
  {
   "cell_type": "code",
   "execution_count": 8,
   "id": "3559717b",
   "metadata": {},
   "outputs": [
    {
     "name": "stdout",
     "output_type": "stream",
     "text": [
      "Document Term Matrix:\n",
      "[[4 1 0 0]\n",
      " [2 0 0 0]\n",
      " [1 3 1 0]\n",
      " [0 0 1 3]\n",
      " [0 0 3 0]\n",
      " [0 0 2 2]\n",
      " [0 0 2 1]\n",
      " [2 2 0 0]]\n",
      "Terms: ['banana' 'chocolate' 'fudge' 'icecream']\n"
     ]
    }
   ],
   "source": [
    "# Define a larger corpus\n",
    "banana_texts = [\n",
    "    'banana banana banana banana chocolate',\n",
    "    'banana banana',\n",
    "    'chocolate chocolate chocolate banana fudge',\n",
    "    'icecream icecream fudge icecream',\n",
    "    'fudge fudge fudge',\n",
    "    'icecream icecream fudge fudge',\n",
    "    'icecream fudge fudge',\n",
    "    'chocolate chocolate banana banana'\n",
    "]\n",
    "\n",
    "# Create a Document Term Matrix\n",
    "banana_data = vectorizer.fit_transform(banana_texts).toarray()\n",
    "\n",
    "print('Document Term Matrix:')\n",
    "print(banana_data)\n",
    "print('Terms:', vectorizer.get_feature_names_out())"
   ]
  },
  {
   "cell_type": "code",
   "execution_count": 9,
   "id": "bb1331b8-3685-4d38-a4ca-7bfad10e7bee",
   "metadata": {},
   "outputs": [
    {
     "data": {
      "text/plain": [
       "array([[4, 1, 0, 0],\n",
       "       [2, 0, 0, 0],\n",
       "       [1, 3, 1, 0],\n",
       "       [0, 0, 1, 3],\n",
       "       [0, 0, 3, 0],\n",
       "       [0, 0, 2, 2],\n",
       "       [0, 0, 2, 1],\n",
       "       [2, 2, 0, 0]])"
      ]
     },
     "execution_count": 9,
     "metadata": {},
     "output_type": "execute_result"
    }
   ],
   "source": [
    "banana_data"
   ]
  },
  {
   "cell_type": "code",
   "execution_count": 10,
   "id": "d7a1c969-01ae-4838-a640-7a5e97cd38e5",
   "metadata": {},
   "outputs": [
    {
     "data": {
      "text/plain": [
       "array([[4, 1, 0, 0],\n",
       "       [2, 0, 0, 0],\n",
       "       [1, 3, 1, 0]])"
      ]
     },
     "execution_count": 10,
     "metadata": {},
     "output_type": "execute_result"
    }
   ],
   "source": [
    "john_docs = banana_data[0:3, :]\n",
    "\n",
    "john_docs"
   ]
  },
  {
   "cell_type": "code",
   "execution_count": 11,
   "id": "dfc61839-f6cf-4401-829a-6f5db36bdfe5",
   "metadata": {},
   "outputs": [
    {
     "data": {
      "text/plain": [
       "array([7, 4, 1, 0])"
      ]
     },
     "execution_count": 11,
     "metadata": {},
     "output_type": "execute_result"
    }
   ],
   "source": [
    "john_rates = john_docs.sum(axis=0)\n",
    "\n",
    "john_rates"
   ]
  },
  {
   "cell_type": "markdown",
   "id": "b83faeea-e539-4a6d-abe6-2f36d2454128",
   "metadata": {},
   "source": [
    "we want to calculate the relative rates (probabilities) of word use. We can do this by dividing the raw rates we have by the total number of words"
   ]
  },
  {
   "cell_type": "code",
   "execution_count": 12,
   "id": "78872f5f-0875-4fba-928a-310cf754d524",
   "metadata": {},
   "outputs": [
    {
     "data": {
      "text/plain": [
       "array([0.58333333, 0.33333333, 0.08333333, 0.        ])"
      ]
     },
     "execution_count": 12,
     "metadata": {},
     "output_type": "execute_result"
    }
   ],
   "source": [
    "total_john = john_rates.sum()\n",
    "total_john\n",
    "\n",
    "probs_john = john_rates / total_john\n",
    "probs_john"
   ]
  },
  {
   "cell_type": "markdown",
   "id": "3a0b903a-228d-45a9-b3c3-1cdb19d3c6dc",
   "metadata": {},
   "source": [
    "Now, do the same for Mary"
   ]
  },
  {
   "cell_type": "code",
   "execution_count": 13,
   "id": "3c8f5e75-ad54-4096-97b8-0bfbec7a525d",
   "metadata": {},
   "outputs": [],
   "source": [
    "# your code here\n",
    "mary_docs = banana_data[3:6, :]"
   ]
  },
  {
   "cell_type": "code",
   "execution_count": 14,
   "id": "a99b729e-c914-4a10-8658-ea2b9fdbecc6",
   "metadata": {},
   "outputs": [
    {
     "data": {
      "text/plain": [
       "array([[0, 0, 1, 3],\n",
       "       [0, 0, 3, 0],\n",
       "       [0, 0, 2, 2]])"
      ]
     },
     "execution_count": 14,
     "metadata": {},
     "output_type": "execute_result"
    }
   ],
   "source": [
    "mary_docs"
   ]
  },
  {
   "cell_type": "code",
   "execution_count": 15,
   "id": "78fcc7e0-89d0-4c80-99d7-f358dd79848c",
   "metadata": {},
   "outputs": [
    {
     "data": {
      "text/plain": [
       "array([0, 0, 6, 5])"
      ]
     },
     "execution_count": 15,
     "metadata": {},
     "output_type": "execute_result"
    }
   ],
   "source": [
    "mary_rates = mary_docs.sum(axis=0)\n",
    "mary_rates"
   ]
  },
  {
   "cell_type": "code",
   "execution_count": 16,
   "id": "6cdad45f-9ae0-47ba-b752-3038b221232f",
   "metadata": {},
   "outputs": [
    {
     "data": {
      "text/plain": [
       "np.int64(11)"
      ]
     },
     "execution_count": 16,
     "metadata": {},
     "output_type": "execute_result"
    }
   ],
   "source": [
    "total_mary = mary_rates.sum()\n",
    "total_mary"
   ]
  },
  {
   "cell_type": "code",
   "execution_count": 17,
   "id": "019b0cbf-1f2c-4ae5-8d4f-1c2be8ab7b0b",
   "metadata": {},
   "outputs": [
    {
     "data": {
      "text/plain": [
       "array([0.        , 0.        , 0.54545455, 0.45454545])"
      ]
     },
     "execution_count": 17,
     "metadata": {},
     "output_type": "execute_result"
    }
   ],
   "source": [
    "probs_mary = mary_rates / total_mary\n",
    "probs_mary"
   ]
  },
  {
   "cell_type": "markdown",
   "id": "e8e00d12-955f-400d-a7a9-cc32ba2f5fc7",
   "metadata": {},
   "source": [
    "## Now we have our Language Models\n",
    "Next, we need to determine the rates of the unknown texts! Remember, the texts are 7 and 8."
   ]
  },
  {
   "cell_type": "code",
   "execution_count": 18,
   "id": "d030c886-6ea2-4986-8bb2-5d13dc06f864",
   "metadata": {},
   "outputs": [],
   "source": [
    "unknown_1 = banana_data[6, ]\n",
    "unknown_2 = banana_data[7, ]"
   ]
  },
  {
   "cell_type": "code",
   "execution_count": 19,
   "id": "aae67f91-88fc-4d2c-9bb5-835a405be68f",
   "metadata": {},
   "outputs": [
    {
     "name": "stdout",
     "output_type": "stream",
     "text": [
      "[0 0 2 1]\n",
      "[2 2 0 0]\n"
     ]
    }
   ],
   "source": [
    "print(unknown_1)\n",
    "\n",
    "print(unknown_2)"
   ]
  },
  {
   "cell_type": "markdown",
   "id": "c2b17d23-753e-4041-9cf3-b478a25d28e4",
   "metadata": {},
   "source": [
    "We can now start calculating!\n",
    "\n",
    "First, let’s determine the probability of both of these texts belonging to John.\n",
    "\n",
    "These are John’s probabilities:"
   ]
  },
  {
   "cell_type": "code",
   "execution_count": 20,
   "id": "45567432-562b-4f5e-adc5-6385c0e291c6",
   "metadata": {},
   "outputs": [
    {
     "data": {
      "text/plain": [
       "array([0.58333333, 0.33333333, 0.08333333, 0.        ])"
      ]
     },
     "execution_count": 20,
     "metadata": {},
     "output_type": "execute_result"
    }
   ],
   "source": [
    "probs_john"
   ]
  },
  {
   "cell_type": "markdown",
   "id": "511e8b72",
   "metadata": {},
   "source": [
    "### Example: Calculating Probabilities for Unknown Texts\n",
    "For an unknown text with word counts $[b=0, c=0, f=2, i=1]$, and John's probabilities:\n",
    "\n",
    "$$\n",
    "P(b=0, c=0, f=2, i=1) = \\frac{3!}{0! 0! 2! 1!} \\cdot 0.58^0 \\cdot 0.33^0 \\cdot 0.08^2 \\cdot 0^1\n",
    "$$\n",
    "Step-by-step:\n",
    "\n",
    "1. Calculate the factorial term:\n",
    "\n",
    "$$\n",
    "\\frac{3!}{0! 0! 2! 1!}\n",
    "$$\n",
    "2. Multiply by the word probabilities raised to their respective counts."
   ]
  },
  {
   "cell_type": "code",
   "execution_count": 21,
   "id": "e8cdb2ca-3f81-447e-b851-3c9e6821631a",
   "metadata": {},
   "outputs": [],
   "source": [
    "first_part = factorial(3) / (factorial(0) * factorial(0) * factorial(2) * factorial(1))"
   ]
  },
  {
   "cell_type": "code",
   "execution_count": 22,
   "id": "831200ca-ede0-4301-91de-8ce480ed2d24",
   "metadata": {},
   "outputs": [
    {
     "data": {
      "text/plain": [
       "3.0"
      ]
     },
     "execution_count": 22,
     "metadata": {},
     "output_type": "execute_result"
    }
   ],
   "source": [
    "first_part"
   ]
  },
  {
   "cell_type": "markdown",
   "id": "1b352e7a-91a3-424a-be09-e02fd18fb746",
   "metadata": {},
   "source": [
    "Now this: \n",
    "\n",
    "$$\n",
    "0.58^0 \\cdot 0.33^0 \\cdot 0.08^2 \\cdot 0^1\n",
    "$$"
   ]
  },
  {
   "cell_type": "code",
   "execution_count": 23,
   "id": "1dfc9f2d-1e0b-4d19-a6a6-40fb22326312",
   "metadata": {},
   "outputs": [],
   "source": [
    "second_part = 0.58**0 * 0.33**0 * 0.08**2 * 0**1"
   ]
  },
  {
   "cell_type": "markdown",
   "id": "d813b1fa-da28-4b8f-951d-2c01c05c9deb",
   "metadata": {},
   "source": [
    "Combining together:"
   ]
  },
  {
   "cell_type": "code",
   "execution_count": 24,
   "id": "cfcae121-5b63-4c19-a0bf-daa126e8fd53",
   "metadata": {},
   "outputs": [
    {
     "data": {
      "text/plain": [
       "0.0"
      ]
     },
     "execution_count": 24,
     "metadata": {},
     "output_type": "execute_result"
    }
   ],
   "source": [
    "first_part * second_part"
   ]
  },
  {
   "cell_type": "markdown",
   "id": "6c31dd42-18f4-4546-bc06-c11b10b4229d",
   "metadata": {},
   "source": [
    "This is the probability of the first `unknown` text being generated by john.\n",
    "\n",
    "Now, let's do the second `unknown` text:\n",
    "\n",
    "$$\n",
    "P(b=2, c=2, f=0, i=0) = \\frac{4!}{2!2!0!0!}0.58^{2}\\times 0.33^{2} \\times 0.8^0 \\times 0^0\n",
    "$$"
   ]
  },
  {
   "cell_type": "code",
   "execution_count": 25,
   "id": "d9bc0f6a-a1a4-4a8e-9c7a-905c1e9f3793",
   "metadata": {},
   "outputs": [],
   "source": [
    "first_part = factorial(4) / (factorial(2) * factorial(2) * factorial(0) * factorial(0))"
   ]
  },
  {
   "cell_type": "code",
   "execution_count": 26,
   "id": "e74ac1d9-40f4-411b-9967-9f70d6f7436d",
   "metadata": {},
   "outputs": [],
   "source": [
    "# Element-wise exponentiation and product\n",
    "second_part = np.prod(probs_john ** unknown_2)"
   ]
  },
  {
   "cell_type": "code",
   "execution_count": 27,
   "id": "3d715c8e-bd7e-4674-989a-1e64db87474a",
   "metadata": {},
   "outputs": [
    {
     "data": {
      "text/plain": [
       "np.float64(0.22685185185185192)"
      ]
     },
     "execution_count": 27,
     "metadata": {},
     "output_type": "execute_result"
    }
   ],
   "source": [
    "first_part * second_part"
   ]
  },
  {
   "cell_type": "markdown",
   "id": "67204896-ad91-4f37-be10-8ef6b8ea1a78",
   "metadata": {},
   "source": [
    "# Now calculate Mary probabilities yourself"
   ]
  },
  {
   "cell_type": "markdown",
   "id": "5cd09c58",
   "metadata": {},
   "source": [
    "### Example: Calculating Probabilities Using Multinomial Model"
   ]
  },
  {
   "cell_type": "code",
   "execution_count": 28,
   "id": "74ce4b3f",
   "metadata": {},
   "outputs": [
    {
     "name": "stdout",
     "output_type": "stream",
     "text": [
      "John Probabilities: [0.58333333 0.33333333 0.08333333 0.        ]\n",
      "Mary Probabilities: [0.         0.         0.54545455 0.45454545]\n",
      "Unknown Text 1: [0 0 2 1]\n",
      "Unknown Text 2: [2 2 0 0]\n",
      "Probability that Unknown 1 was generated by John: 0.0\n",
      "Probability that Unknown 1 was generated by Mary: 0.4057099924868519\n",
      "Probability that Unknown 2 was generated by John: 0.22685185185185192\n",
      "Probability that Unknown 2 was generated by Mary: 0.0\n"
     ]
    }
   ],
   "source": [
    "# Assuming John generated texts 1-3 and Mary generated texts 4-6\n",
    "john_docs = banana_data[:3, :]\n",
    "mary_docs = banana_data[3:6, :]\n",
    "\n",
    "# Calculate word probabilities for John and Mary\n",
    "john_rates = john_docs.sum(axis=0)\n",
    "mary_rates = mary_docs.sum(axis=0)\n",
    "\n",
    "john_probs = john_rates / john_rates.sum()\n",
    "mary_probs = mary_rates / mary_rates.sum()\n",
    "\n",
    "print('John Probabilities:', john_probs)\n",
    "print('Mary Probabilities:', mary_probs)\n",
    "\n",
    "\n",
    "# Define unknown texts (rows 7 and 8)\n",
    "unknown_1 = banana_data[6, :]\n",
    "unknown_2 = banana_data[7, :]\n",
    "\n",
    "# Display unknown texts\n",
    "print('Unknown Text 1:', unknown_1)\n",
    "print('Unknown Text 2:', unknown_2)\n",
    "\n",
    "# Calculate probabilities\n",
    "def multinomial_probability(word_counts, word_probs):\n",
    "    N = sum(word_counts)\n",
    "    numerator = factorial(N)\n",
    "    denominator = np.prod([factorial(c) for c in word_counts])\n",
    "    probs = np.prod(word_probs ** word_counts)\n",
    "    return (numerator / denominator) * probs\n",
    "\n",
    "# Example for Unknown Text 1\n",
    "p_john_unknown_1 = multinomial_probability(unknown_1, john_probs)\n",
    "p_john_unknown_2 = multinomial_probability(unknown_2, john_probs)\n",
    "\n",
    "# Similarly, calculate for Mary\n",
    "p_mary_unknown_1 = multinomial_probability(unknown_1, mary_probs)\n",
    "p_mary_unknown_2 = multinomial_probability(unknown_2, mary_probs)\n",
    "\n",
    "print(f'Probability that Unknown 1 was generated by John: {p_john_unknown_1}')\n",
    "print(f'Probability that Unknown 1 was generated by Mary: {p_mary_unknown_1}')\n",
    "\n",
    "print(f'Probability that Unknown 2 was generated by John: {p_john_unknown_2}')\n",
    "print(f'Probability that Unknown 2 was generated by Mary: {p_mary_unknown_2}')"
   ]
  },
  {
   "cell_type": "code",
   "execution_count": 58,
   "id": "0ab96685-bbd2-4706-b0af-df05db14db03",
   "metadata": {},
   "outputs": [
    {
     "name": "stdout",
     "output_type": "stream",
     "text": [
      "Probability Unknown 1 was generated by John: 0.000000e+00\n",
      "Probability Unknown 1 was generated by Mary: 4.057100e-01\n",
      "Probability Unknown 2 was generated by John: 2.268519e-01\n",
      "Probability Unknown 2 was generated by Mary: 0.000000e+00\n"
     ]
    }
   ],
   "source": [
    "# Calculate probabilities using multinomial pmf\n",
    "def multinomial_p(word_counts, word_probs):\n",
    "    N = sum(word_counts)  # total number of words in the text\n",
    "    return multinomial.pmf(word_counts, n=N, p=word_probs)\n",
    "\n",
    "# Example: Unknown 1\n",
    "p_john_unknown_1 = multinomial_p(unknown_1, john_probs)\n",
    "p_mary_unknown_1 = multinomial_p(unknown_1, mary_probs)\n",
    "\n",
    "# Example: Unknown 2\n",
    "p_john_unknown_2 = multinomial_p(unknown_2, john_probs)\n",
    "p_mary_unknown_2 = multinomial_p(unknown_2, mary_probs)\n",
    "\n",
    "print(f\"Probability Unknown 1 was generated by John: {p_john_unknown_1:.6e}\")\n",
    "print(f\"Probability Unknown 1 was generated by Mary: {p_mary_unknown_1:.6e}\")\n",
    "print(f\"Probability Unknown 2 was generated by John: {p_john_unknown_2:.6e}\")\n",
    "print(f\"Probability Unknown 2 was generated by Mary: {p_mary_unknown_2:.6e}\")"
   ]
  },
  {
   "cell_type": "markdown",
   "id": "98e2b01b",
   "metadata": {},
   "source": [
    "### Predicting Text Origin with the Multinomial Model"
   ]
  },
  {
   "cell_type": "code",
   "execution_count": null,
   "id": "9ea1900f",
   "metadata": {},
   "outputs": [],
   "source": []
  },
  {
   "cell_type": "markdown",
   "id": "b99c1daa",
   "metadata": {},
   "source": [
    "### Task: Calculate Probabilities for Mary"
   ]
  },
  {
   "cell_type": "code",
   "execution_count": null,
   "id": "7dc3652a",
   "metadata": {},
   "outputs": [],
   "source": [
    "# Use the same process to calculate probabilities for Mary.\n",
    "# Define unknown texts (rows 7 and 8) and use Mary probabilities.\n",
    "# Mary probabilities are already calculated as `mary_probs`. Proceed as done for John.\n"
   ]
  },
  {
   "cell_type": "markdown",
   "id": "67d74287",
   "metadata": {},
   "source": [
    "## Session 2: Text Preprocessing\n",
    "In this session, we focus on preprocessing steps for text analysis. These steps help reduce dimensionality and noise in our representations."
   ]
  },
  {
   "cell_type": "markdown",
   "id": "1e1064b1",
   "metadata": {},
   "source": [
    "### Lowercasing, Punctuation, Numbers"
   ]
  },
  {
   "cell_type": "code",
   "execution_count": 30,
   "id": "75ca25ca",
   "metadata": {},
   "outputs": [
    {
     "name": "stdout",
     "output_type": "stream",
     "text": [
      "Original: The quick brown fox jumps over the lazy dog!!! 123\n",
      "Processed: the quick brown fox jumps over the lazy dog \n"
     ]
    }
   ],
   "source": [
    "import re\n",
    "\n",
    "text = \"The quick brown fox jumps over the lazy dog!!! 123\"\n",
    "processed = text.lower()                      # lowercasing\n",
    "processed = re.sub(r'[^a-z\\s]', '', processed) # remove punctuation/numbers\n",
    "print(\"Original:\", text)\n",
    "print(\"Processed:\", processed)"
   ]
  },
  {
   "cell_type": "markdown",
   "id": "bf667496",
   "metadata": {},
   "source": [
    "### Stop Words"
   ]
  },
  {
   "cell_type": "code",
   "execution_count": 34,
   "id": "059829cf",
   "metadata": {},
   "outputs": [
    {
     "name": "stdout",
     "output_type": "stream",
     "text": [
      "Without stopwords: ['quick', 'brown', 'fox', 'jumps', 'lazy', 'dog.', 'stop', 'word?']\n"
     ]
    }
   ],
   "source": [
    "from sklearn.feature_extraction.text import ENGLISH_STOP_WORDS\n",
    "\n",
    "text = \"The quick brown fox jumps over the lazy dog. is this a stop word? that might be it. hello, banana, chocolate\"\n",
    "tokens = text.lower().split()\n",
    "filtered = [t for t in tokens if t not in ENGLISH_STOP_WORDS]\n",
    "print(\"Without stopwords:\", filtered)"
   ]
  },
  {
   "cell_type": "code",
   "execution_count": 42,
   "id": "45137c81-8aec-4c7c-af2c-a86e7923aa64",
   "metadata": {},
   "outputs": [
    {
     "name": "stdout",
     "output_type": "stream",
     "text": [
      "True\n"
     ]
    }
   ],
   "source": [
    "# Add custom stopwords\n",
    "\n",
    "custom_stopwords = set(ENGLISH_STOP_WORDS)\n",
    "\n",
    "custom_stopwords.add(\"hello\")\n",
    "custom_stopwords.update([\"banana\", \"chocolate\"])\n",
    "\n",
    "print(\"hello\" in custom_stopwords)\n"
   ]
  },
  {
   "cell_type": "code",
   "execution_count": 44,
   "id": "f2195e81-6d9a-42f6-8d67-0b74a3d6d249",
   "metadata": {},
   "outputs": [
    {
     "name": "stdout",
     "output_type": "stream",
     "text": [
      "Without stopwords: ['quick', 'brown', 'fox', 'jumps', 'lazy', 'dog.', 'stop', 'word?']\n"
     ]
    }
   ],
   "source": [
    "filtered = [t for t in tokens if t not in ENGLISH_STOP_WORDS]\n",
    "print(\"Without stopwords:\", filtered)\n"
   ]
  },
  {
   "cell_type": "markdown",
   "id": "f9f1812c",
   "metadata": {},
   "source": [
    "### Stemming vs Lemmatization"
   ]
  },
  {
   "cell_type": "code",
   "execution_count": 35,
   "id": "a2ed5b48",
   "metadata": {},
   "outputs": [
    {
     "name": "stderr",
     "output_type": "stream",
     "text": [
      "[nltk_data] Downloading package wordnet to\n",
      "[nltk_data]     /Users/petrotolochko/nltk_data...\n",
      "[nltk_data] Downloading package omw-1.4 to\n",
      "[nltk_data]     /Users/petrotolochko/nltk_data...\n"
     ]
    },
    {
     "name": "stdout",
     "output_type": "stream",
     "text": [
      "Stemming: ['wait', 'wait', 'wait', 'went', 'gone']\n",
      "Lemmatization: ['wait', 'wait', 'wait', 'go', 'go']\n"
     ]
    }
   ],
   "source": [
    "from nltk.stem import PorterStemmer, WordNetLemmatizer\n",
    "import nltk\n",
    "nltk.download('wordnet')\n",
    "nltk.download('omw-1.4') # Open Multilingual Wordnet\n",
    "\n",
    "stemmer = PorterStemmer()\n",
    "lemmatizer = WordNetLemmatizer()\n",
    "\n",
    "words = [\"waiting\", \"waited\", \"waits\", \"went\", \"gone\"]\n",
    "\n",
    "print(\"Stemming:\", [stemmer.stem(w) for w in words])\n",
    "print(\"Lemmatization:\", [lemmatizer.lemmatize(w, pos='v') for w in words])"
   ]
  },
  {
   "cell_type": "markdown",
   "id": "7f74fe11",
   "metadata": {},
   "source": [
    "### N-grams"
   ]
  },
  {
   "cell_type": "code",
   "execution_count": 57,
   "id": "01e2006f",
   "metadata": {},
   "outputs": [
    {
     "data": {
      "text/html": [
       "<div>\n",
       "<style scoped>\n",
       "    .dataframe tbody tr th:only-of-type {\n",
       "        vertical-align: middle;\n",
       "    }\n",
       "\n",
       "    .dataframe tbody tr th {\n",
       "        vertical-align: top;\n",
       "    }\n",
       "\n",
       "    .dataframe thead th {\n",
       "        text-align: right;\n",
       "    }\n",
       "</style>\n",
       "<table border=\"1\" class=\"dataframe\">\n",
       "  <thead>\n",
       "    <tr style=\"text-align: right;\">\n",
       "      <th></th>\n",
       "      <th>and</th>\n",
       "      <th>and bananas</th>\n",
       "      <th>bananas</th>\n",
       "      <th>cream</th>\n",
       "      <th>cream and</th>\n",
       "      <th>cream and bananas</th>\n",
       "      <th>ice</th>\n",
       "      <th>ice cream</th>\n",
       "      <th>ice cream and</th>\n",
       "      <th>love</th>\n",
       "      <th>love ice</th>\n",
       "      <th>love ice cream</th>\n",
       "    </tr>\n",
       "  </thead>\n",
       "  <tbody>\n",
       "    <tr>\n",
       "      <th>0</th>\n",
       "      <td>1</td>\n",
       "      <td>1</td>\n",
       "      <td>1</td>\n",
       "      <td>1</td>\n",
       "      <td>1</td>\n",
       "      <td>1</td>\n",
       "      <td>1</td>\n",
       "      <td>1</td>\n",
       "      <td>1</td>\n",
       "      <td>1</td>\n",
       "      <td>1</td>\n",
       "      <td>1</td>\n",
       "    </tr>\n",
       "  </tbody>\n",
       "</table>\n",
       "</div>"
      ],
      "text/plain": [
       "   and  and bananas  bananas  cream  cream and  cream and bananas  ice  \\\n",
       "0    1            1        1      1          1                  1    1   \n",
       "\n",
       "   ice cream  ice cream and  love  love ice  love ice cream  \n",
       "0          1              1     1         1               1  "
      ]
     },
     "execution_count": 57,
     "metadata": {},
     "output_type": "execute_result"
    }
   ],
   "source": [
    "from sklearn.feature_extraction.text import CountVectorizer\n",
    "import pandas as pd\n",
    "\n",
    "texts = [\"I love ice cream and bananas\"]\n",
    "vectorizer = CountVectorizer(ngram_range=(1, 3))\n",
    "X = vectorizer.fit_transform(texts)\n",
    "pd.DataFrame(X.toarray(), columns=vectorizer.get_feature_names_out())"
   ]
  },
  {
   "cell_type": "markdown",
   "id": "fb6b84d6",
   "metadata": {},
   "source": [
    "### Removal of Terms by Frequency"
   ]
  },
  {
   "cell_type": "code",
   "execution_count": 55,
   "id": "e2bc1692",
   "metadata": {},
   "outputs": [
    {
     "data": {
      "text/html": [
       "<div>\n",
       "<style scoped>\n",
       "    .dataframe tbody tr th:only-of-type {\n",
       "        vertical-align: middle;\n",
       "    }\n",
       "\n",
       "    .dataframe tbody tr th {\n",
       "        vertical-align: top;\n",
       "    }\n",
       "\n",
       "    .dataframe thead th {\n",
       "        text-align: right;\n",
       "    }\n",
       "</style>\n",
       "<table border=\"1\" class=\"dataframe\">\n",
       "  <thead>\n",
       "    <tr style=\"text-align: right;\">\n",
       "      <th></th>\n",
       "      <th>banana</th>\n",
       "      <th>chocolate</th>\n",
       "    </tr>\n",
       "  </thead>\n",
       "  <tbody>\n",
       "    <tr>\n",
       "      <th>0</th>\n",
       "      <td>4</td>\n",
       "      <td>1</td>\n",
       "    </tr>\n",
       "    <tr>\n",
       "      <th>1</th>\n",
       "      <td>1</td>\n",
       "      <td>3</td>\n",
       "    </tr>\n",
       "    <tr>\n",
       "      <th>2</th>\n",
       "      <td>0</td>\n",
       "      <td>0</td>\n",
       "    </tr>\n",
       "  </tbody>\n",
       "</table>\n",
       "</div>"
      ],
      "text/plain": [
       "   banana  chocolate\n",
       "0       4          1\n",
       "1       1          3\n",
       "2       0          0"
      ]
     },
     "execution_count": 55,
     "metadata": {},
     "output_type": "execute_result"
    }
   ],
   "source": [
    "corpus = [\n",
    "    \"banana banana banana banana chocolate\",\n",
    "    \"chocolate chocolate chocolate banana\",\n",
    "    \"ice cream fudge\"\n",
    "]\n",
    "\n",
    "vectorizer = CountVectorizer(min_df=2, max_df=0.8)\n",
    "X = vectorizer.fit_transform(corpus)\n",
    "pd.DataFrame(X.toarray(), columns=vectorizer.get_feature_names_out())"
   ]
  },
  {
   "cell_type": "markdown",
   "id": "b2abbc9d",
   "metadata": {},
   "source": [
    "### TF-IDF"
   ]
  },
  {
   "cell_type": "code",
   "execution_count": 39,
   "id": "1e3aee71",
   "metadata": {},
   "outputs": [
    {
     "data": {
      "text/html": [
       "<div>\n",
       "<style scoped>\n",
       "    .dataframe tbody tr th:only-of-type {\n",
       "        vertical-align: middle;\n",
       "    }\n",
       "\n",
       "    .dataframe tbody tr th {\n",
       "        vertical-align: top;\n",
       "    }\n",
       "\n",
       "    .dataframe thead th {\n",
       "        text-align: right;\n",
       "    }\n",
       "</style>\n",
       "<table border=\"1\" class=\"dataframe\">\n",
       "  <thead>\n",
       "    <tr style=\"text-align: right;\">\n",
       "      <th></th>\n",
       "      <th>banana</th>\n",
       "      <th>chocolate</th>\n",
       "      <th>cream</th>\n",
       "      <th>fudge</th>\n",
       "      <th>ice</th>\n",
       "    </tr>\n",
       "  </thead>\n",
       "  <tbody>\n",
       "    <tr>\n",
       "      <th>0</th>\n",
       "      <td>0.970143</td>\n",
       "      <td>0.242536</td>\n",
       "      <td>0.00000</td>\n",
       "      <td>0.00000</td>\n",
       "      <td>0.00000</td>\n",
       "    </tr>\n",
       "    <tr>\n",
       "      <th>1</th>\n",
       "      <td>0.316228</td>\n",
       "      <td>0.948683</td>\n",
       "      <td>0.00000</td>\n",
       "      <td>0.00000</td>\n",
       "      <td>0.00000</td>\n",
       "    </tr>\n",
       "    <tr>\n",
       "      <th>2</th>\n",
       "      <td>0.000000</td>\n",
       "      <td>0.000000</td>\n",
       "      <td>0.57735</td>\n",
       "      <td>0.57735</td>\n",
       "      <td>0.57735</td>\n",
       "    </tr>\n",
       "  </tbody>\n",
       "</table>\n",
       "</div>"
      ],
      "text/plain": [
       "     banana  chocolate    cream    fudge      ice\n",
       "0  0.970143   0.242536  0.00000  0.00000  0.00000\n",
       "1  0.316228   0.948683  0.00000  0.00000  0.00000\n",
       "2  0.000000   0.000000  0.57735  0.57735  0.57735"
      ]
     },
     "execution_count": 39,
     "metadata": {},
     "output_type": "execute_result"
    }
   ],
   "source": [
    "from sklearn.feature_extraction.text import TfidfVectorizer\n",
    "\n",
    "vectorizer = TfidfVectorizer()\n",
    "X = vectorizer.fit_transform(corpus)\n",
    "pd.DataFrame(X.toarray(), columns=vectorizer.get_feature_names_out())"
   ]
  },
  {
   "cell_type": "code",
   "execution_count": 51,
   "id": "4726fea3-7fa0-45c8-8219-13588057a6dc",
   "metadata": {},
   "outputs": [
    {
     "name": "stdout",
     "output_type": "stream",
     "text": [
      "Document 1:\n",
      "  banana: 0.970\n",
      "  chocolate: 0.243\n",
      "Document 2:\n",
      "  banana: 0.316\n",
      "  chocolate: 0.949\n",
      "Document 3:\n",
      "  cream: 0.577\n",
      "  fudge: 0.577\n",
      "  ice: 0.577\n"
     ]
    }
   ],
   "source": [
    "# Slightly different from sklearn implementation\n",
    "# sklearn: \\text{idf}(t) = \\log \\frac{1 + N}{1 + df(t)} + 1\n",
    "\n",
    "import math\n",
    "from collections import Counter\n",
    "import numpy as np\n",
    "\n",
    "\n",
    "def compute_tfidf(corpus):\n",
    "    \"\"\"\n",
    "    Compute TF–IDF scores for a toy corpus.\n",
    "    corpus: list of strings (each string is a document)\n",
    "    \n",
    "    Returns: dict of dicts, tfidf[doc_id][term] = score\n",
    "    \"\"\"\n",
    "    # Tokenize (split on spaces)\n",
    "    tokenized = [doc.lower().split() for doc in corpus]\n",
    "    \n",
    "    # Vocabulary\n",
    "    vocab = sorted(set(word for doc in tokenized for word in doc))\n",
    "    N = len(corpus)\n",
    "    \n",
    "    # Document frequencies\n",
    "    df = {term: sum(1 for doc in tokenized if term in doc) for term in vocab}\n",
    "    \n",
    "    # Compute TF–IDF\n",
    "    tfidf = []\n",
    "    for doc in tokenized:\n",
    "        counts = Counter(doc)\n",
    "        doc_len = len(doc)\n",
    "        doc_tfidf = {}\n",
    "        for term in vocab:\n",
    "            tf = counts[term] / doc_len if doc_len > 0 else 0\n",
    "            idf = math.log(N / df[term])\n",
    "            # idf = math.log((1 + N) / (1 + df[term])) + 1\n",
    "            doc_tfidf[term] = tf * idf\n",
    "        tfidf.append(doc_tfidf)\n",
    "\n",
    "    # for doc_tfidf in tfidf:\n",
    "    #     norm = math.sqrt(sum(val**2 for val in doc_tfidf.values()))\n",
    "    #     if norm > 0:\n",
    "    #         for term in doc_tfidf:\n",
    "    #             doc_tfidf[term] /= norm\n",
    "    \n",
    "    return tfidf\n",
    "\n",
    "# Example corpus\n",
    "corpus = [\n",
    "    \"banana banana banana banana chocolate\",\n",
    "    \"chocolate chocolate chocolate banana\",\n",
    "    \"ice cream fudge\"\n",
    "]\n",
    "\n",
    "tfidf_scores = compute_tfidf(corpus)\n",
    "\n",
    "# if L2 normalization, squared weights should sum to one\n",
    "for i, scores in enumerate(tfidf_scores, start=1):\n",
    "    print(f\"Document {i}:\")\n",
    "    for term, score in scores.items():\n",
    "        if score > 0:\n",
    "            print(f\"  {term}: {score:.3f}\")"
   ]
  },
  {
   "cell_type": "markdown",
   "id": "72a72e6d-ec98-41ef-aaf3-fc2a271e9001",
   "metadata": {},
   "source": [
    "## Log Odds and Log Odds Ratios\n",
    "\n",
    "### Odds\n",
    "- Probability: $p = \\frac{\\#\\text{successes}}{\\#\\text{trials}}$\n",
    "- Odds: ratio of success to failure: $\\text{Odds} = \\frac{p}{1-p}$\n",
    "\n",
    "Example: If $p=0.8$, then odds = $0.8/0.2 = 4$ (\"4 to 1 in favor\").\n",
    "\n",
    "\n",
    "### Log Odds\n",
    "Log odds are just the natural logarithm of the odds:\n",
    "\n",
    "$$ \\text{Logit}(p) = \\log \\left( \\frac{p}{1-p} \\right) $$\n",
    "\n",
    "- Maps probabilities $(0,1)$ to the full real line $(-\\infty, +\\infty)$.\n",
    "- Useful in logistic regression and text analysis.\n"
   ]
  },
  {
   "cell_type": "code",
   "execution_count": 45,
   "id": "3b15673d-f781-47f5-aaa0-041d923f3397",
   "metadata": {},
   "outputs": [
    {
     "data": {
      "image/png": "[encoded data removed]",
      "text/plain": [
       "<Figure size 600x400 with 1 Axes>"
      ]
     },
     "metadata": {},
     "output_type": "display_data"
    }
   ],
   "source": [
    "import numpy as np\n",
    "import matplotlib.pyplot as plt\n",
    "\n",
    "p = np.linspace(0.001, 0.999, 500)\n",
    "logit = np.log(p/(1-p))\n",
    "\n",
    "plt.figure(figsize=(6,4))\n",
    "plt.plot(p, logit, label=\"logit(p)\")\n",
    "plt.axhline(0, color=\"gray\", linestyle=\"--\")\n",
    "plt.axvline(0.5, color=\"gray\", linestyle=\"--\")\n",
    "plt.xlabel(\"Probability p\")\n",
    "plt.ylabel(\"Log-odds\")\n",
    "plt.title(\"Logit Function = Log Odds\")\n",
    "plt.legend()\n",
    "plt.show()"
   ]
  },
  {
   "cell_type": "markdown",
   "id": "ec6f2503-c1a2-4376-9e4a-64e82a2b2749",
   "metadata": {},
   "source": [
    "### Log Odds Ratios\n",
    "To compare two groups (say, John vs. Mary), we compute the difference in their log odds for a word:\n",
    "\n",
    "$$\n",
    "\\text{Log Odds Ratio} = \n",
    "\\log \\left( \\frac{p_1}{1-p_1} \\right) - \n",
    "\\log \\left( \\frac{p_2}{1-p_2} \\right)\n",
    "$$\n",
    "\n",
    "- Positive → word is more associated with group 1.\n",
    "- Negative → word is more associated with group 2."
   ]
  },
  {
   "cell_type": "code",
   "execution_count": 47,
   "id": "27d7e0f7-1e47-4dc5-a6b4-0cf6360cc5c2",
   "metadata": {},
   "outputs": [
    {
     "data": {
      "text/plain": [
       "np.float64(3.044522437723423)"
      ]
     },
     "execution_count": 47,
     "metadata": {},
     "output_type": "execute_result"
    }
   ],
   "source": [
    "# Example: word 'banana'\n",
    "# John: 7 out of 12 words\n",
    "# Mary: 1 out of 16 words\n",
    "\n",
    "p1 = 7/12\n",
    "p2 = 1/16\n",
    "\n",
    "log_odds_ratio = np.log(p1/(1-p1)) - np.log(p2/(1-p2))\n",
    "log_odds_ratio"
   ]
  },
  {
   "cell_type": "code",
   "execution_count": null,
   "id": "49536d6c-0e34-42a3-ab39-6257c3b85951",
   "metadata": {},
   "outputs": [],
   "source": []
  }
 ],
 "metadata": {
  "kernelspec": {
   "display_name": "Python 3 (ipykernel)",
   "language": "python",
   "name": "python3"
  },
  "language_info": {
   "codemirror_mode": {
    "name": "ipython",
    "version": 3
   },
   "file_extension": ".py",
   "mimetype": "text/x-python",
   "name": "python",
   "nbconvert_exporter": "python",
   "pygments_lexer": "ipython3",
   "version": "3.13.5"
  }
 },
 "nbformat": 4,
 "nbformat_minor": 5
}
